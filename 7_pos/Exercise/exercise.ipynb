{
 "cells": [
  {
   "cell_type": "code",
   "execution_count": 7,
   "metadata": {},
   "outputs": [
    {
     "name": "stdout",
     "output_type": "stream",
     "text": [
      "Inflation rose again in April, continuing a climb that has pushed consumers to the brink and is threatening the economic expansion, the Bureau of Labor Statistics reported Wednesday.\n",
      "\n",
      "The consumer price index, a broad-based measure of prices for goods and services, increased 8.3% from a year ago, higher than the Dow Jones estimate for an 8.1% gain. That represented a slight ease from March’s peak but was still close to the highest level since the summer of 1982.\n",
      "\n",
      "Removing volatile food and energy prices, so-called core CPI still rose 6.2%, against expectations for a 6% gain, clouding hopes that inflation had peaked in March.\n",
      "\n",
      "The month-over-month gains also were higher than expectations — 0.3% on headline CPI versus the 0.2% estimate and a 0.6% increase for core, against the outlook for a 0.4% gain.\n",
      "\n",
      "The price gains also meant that workers continued to lose ground. Real wages adjusted for inflation decreased 0.1% on the month despite a nominal increase of 0.3% in average hourly earnings. Over the past year, real earnings have dropped 2.6% even though average hourly earnings are up 5.5%.\n",
      "\n",
      "Inflation has been the single biggest threat to a recovery that began early in the Covid pandemic and saw the economy in 2021 stage its biggest single-year growth level since 1984. Rising prices at the pump and in grocery stores have been one problem, but inflation has spread beyond those two areas into housing, auto sales and a host of other areas.\n",
      "\n",
      "Federal Reserve officials have responded to the problem with two interest rate hikes so far this year and pledges of more until inflation comes down to the central bank’s 2% goal. However, Wednesday’s data shows that the Fed has a big job ahead.\n",
      "\n",
      "Credits: cnbc.com <class 'str'>\n",
      "['Inflation', 'climb', 'consumers', 'brink', 'expansion', 'consumer', 'price', 'index', 'measure', 'prices', 'goods', 'services', '%', 'year', 'estimate', '%', 'gain', 'ease', 'peak', 'level', 'summer', 'food', 'energy', 'prices', 'core', '%', 'expectations', '%', 'gain', 'hopes', 'inflation', 'month', 'month', 'gains', 'expectations', '%', 'headline', '%', 'estimate', '%', 'increase', 'core', 'outlook', '%', 'gain', 'price', 'gains', 'workers', 'ground', 'wages', 'inflation', '%', 'month', 'increase', '%', 'earnings', 'year', 'earnings', '%', 'earnings', '%', 'Inflation', 'threat', 'recovery', 'pandemic', 'economy', 'stage', 'year', 'growth', 'level', 'prices', 'pump', 'grocery', 'stores', 'problem', 'inflation', 'areas', 'housing', 'auto', 'sales', 'host', 'areas', 'officials', 'problem', 'interest', 'rate', 'hikes', 'year', 'pledges', 'inflation', 'bank', '%', 'goal', 'data', 'job', 'Credits']\n",
      "['8.3', '8.1', '1982', '6.2', '6', '0.3', '0.2', '0.6', '0.4', '0.1', '0.3', '2.6', '5.5', '2021', '1984', 'one', 'two', 'two', '2']\n"
     ]
    }
   ],
   "source": [
    "import spacy \n",
    "nlp = spacy.load(\"en_core_web_sm\")\n",
    "result_nouns = []\n",
    "result_nums = []\n",
    "with open(\"../news_story.txt\", \"r\") as file:\n",
    "    text = file.read()\n",
    "    doc = nlp(text)\n",
    "    print(text, type(text))\n",
    "    for word in doc:\n",
    "        if word.pos_ in [\"NOUN\"]:\n",
    "            result_nouns.append(word.text)\n",
    "        if word.pos_ in [\"NUM\"]:\n",
    "            result_nums.append(word.text)\n",
    "\n",
    "print(result_nouns)\n",
    "print(result_nums)\n",
    "\n"
   ]
  },
  {
   "cell_type": "code",
   "execution_count": 10,
   "metadata": {},
   "outputs": [
    {
     "name": "stdout",
     "output_type": "stream",
     "text": [
      "NOUN:96\n",
      "VERB:27\n",
      "ADV:15\n",
      "ADP:39\n",
      "PROPN:16\n",
      "PUNCT:32\n",
      "DET:34\n",
      "PRON:4\n",
      "AUX:13\n",
      "CCONJ:10\n",
      "ADJ:23\n",
      "SPACE:7\n",
      "NUM:19\n",
      "PART:4\n",
      "SCONJ:8\n",
      "X:1\n"
     ]
    }
   ],
   "source": [
    "count = doc.count_by(spacy.attrs.POS)\n",
    "count\n",
    "for k,v in count.items():\n",
    "    print(f\"{doc.vocab[k].text}:{v}\")\n"
   ]
  }
 ],
 "metadata": {
  "kernelspec": {
   "display_name": "base",
   "language": "python",
   "name": "python3"
  },
  "language_info": {
   "codemirror_mode": {
    "name": "ipython",
    "version": 3
   },
   "file_extension": ".py",
   "mimetype": "text/x-python",
   "name": "python",
   "nbconvert_exporter": "python",
   "pygments_lexer": "ipython3",
   "version": "3.9.12"
  }
 },
 "nbformat": 4,
 "nbformat_minor": 2
}
