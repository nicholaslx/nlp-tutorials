{
 "cells": [
  {
   "cell_type": "code",
   "execution_count": 2,
   "metadata": {},
   "outputs": [],
   "source": [
    "import spacy\n",
    "nlp = spacy.load(\"en_core_web_sm\")"
   ]
  },
  {
   "cell_type": "markdown",
   "metadata": {},
   "source": [
    "<h3>Read a new story</h3>"
   ]
  },
  {
   "cell_type": "code",
   "execution_count": 4,
   "metadata": {
    "scrolled": true
   },
   "outputs": [
    {
     "data": {
      "text/plain": [
       "'Inflation rose again in April, continuing a climb that has pushed consumers to the brink and is threatening the economic expansion, the Bureau of Labor Statistics reported Wednesday.\\n\\nThe consumer price index, a broad-based measure of prices for goods and services, increased 8.3% from a year ago, higher than the Dow Jones estimate for an 8.1% gain. That represented a slight ease from March’s peak but was still close to the highest level since the summer of 1982.\\n\\nRemoving volatile food and energ'"
      ]
     },
     "execution_count": 4,
     "metadata": {},
     "output_type": "execute_result"
    }
   ],
   "source": [
    "with open(\"../news_story.txt\",\"r\") as f:\n",
    "    news_text = f.read()\n",
    "    \n",
    "news_text[:500]"
   ]
  },
  {
   "cell_type": "markdown",
   "metadata": {},
   "source": [
    "<h3>Extract NOUN and NUM tokens</h3>"
   ]
  },
  {
   "cell_type": "code",
   "execution_count": 5,
   "metadata": {},
   "outputs": [],
   "source": [
    "doc = nlp(news_text)\n",
    "\n",
    "numeral_tokens = []\n",
    "noun_tokens = []\n",
    "\n",
    "for token in doc:\n",
    "    if token.pos_ == \"NOUN\":\n",
    "        noun_tokens.append(token)\n",
    "    elif token.pos_ == 'NUM':\n",
    "        numeral_tokens.append(token)"
   ]
  },
  {
   "cell_type": "code",
   "execution_count": 10,
   "metadata": {
    "scrolled": true
   },
   "outputs": [
    {
     "data": {
      "text/plain": [
       "[8.3, 8.1, 1982, 6.2, 6, 0.3, 0.2, 0.6, 0.4, 0.1]"
      ]
     },
     "execution_count": 10,
     "metadata": {},
     "output_type": "execute_result"
    }
   ],
   "source": [
    "numeral_tokens[:10]"
   ]
  },
  {
   "cell_type": "code",
   "execution_count": 6,
   "metadata": {
    "scrolled": true
   },
   "outputs": [
    {
     "data": {
      "text/plain": [
       "[Inflation,\n",
       " climb,\n",
       " consumers,\n",
       " brink,\n",
       " expansion,\n",
       " consumer,\n",
       " price,\n",
       " index,\n",
       " measure,\n",
       " prices,\n",
       " goods,\n",
       " services,\n",
       " %,\n",
       " year,\n",
       " estimate,\n",
       " %,\n",
       " gain,\n",
       " ease,\n",
       " peak,\n",
       " level,\n",
       " summer,\n",
       " food,\n",
       " energy,\n",
       " prices,\n",
       " core,\n",
       " %,\n",
       " expectations,\n",
       " %,\n",
       " gain,\n",
       " hopes,\n",
       " inflation,\n",
       " month,\n",
       " month,\n",
       " gains,\n",
       " expectations,\n",
       " %,\n",
       " headline,\n",
       " %,\n",
       " estimate,\n",
       " %,\n",
       " increase,\n",
       " core,\n",
       " outlook,\n",
       " %,\n",
       " gain,\n",
       " price,\n",
       " gains,\n",
       " workers,\n",
       " ground,\n",
       " wages,\n",
       " inflation,\n",
       " %,\n",
       " month,\n",
       " increase,\n",
       " %,\n",
       " earnings,\n",
       " year,\n",
       " earnings,\n",
       " %,\n",
       " earnings,\n",
       " %,\n",
       " Inflation,\n",
       " threat,\n",
       " recovery,\n",
       " pandemic,\n",
       " economy,\n",
       " stage,\n",
       " year,\n",
       " growth,\n",
       " level,\n",
       " prices,\n",
       " pump,\n",
       " grocery,\n",
       " stores,\n",
       " problem,\n",
       " inflation,\n",
       " areas,\n",
       " housing,\n",
       " auto,\n",
       " sales,\n",
       " host,\n",
       " areas,\n",
       " officials,\n",
       " problem,\n",
       " interest,\n",
       " rate,\n",
       " hikes,\n",
       " year,\n",
       " pledges,\n",
       " inflation,\n",
       " bank,\n",
       " %,\n",
       " goal,\n",
       " data,\n",
       " job,\n",
       " Credits]"
      ]
     },
     "execution_count": 6,
     "metadata": {},
     "output_type": "execute_result"
    }
   ],
   "source": [
    "noun_tokens"
   ]
  },
  {
   "cell_type": "markdown",
   "metadata": {},
   "source": [
    "<h3>Print a count of all POS tags</h3>"
   ]
  },
  {
   "cell_type": "code",
   "execution_count": 12,
   "metadata": {},
   "outputs": [
    {
     "data": {
      "text/plain": [
       "{92: 96,\n",
       " 100: 29,\n",
       " 86: 15,\n",
       " 85: 39,\n",
       " 96: 17,\n",
       " 97: 33,\n",
       " 90: 34,\n",
       " 95: 4,\n",
       " 87: 13,\n",
       " 89: 10,\n",
       " 84: 23,\n",
       " 103: 7,\n",
       " 93: 19,\n",
       " 94: 4,\n",
       " 98: 8,\n",
       " 101: 1}"
      ]
     },
     "execution_count": 12,
     "metadata": {},
     "output_type": "execute_result"
    }
   ],
   "source": [
    "count = doc.count_by(spacy.attrs.POS)\n",
    "count"
   ]
  },
  {
   "cell_type": "code",
   "execution_count": 13,
   "metadata": {},
   "outputs": [
    {
     "name": "stdout",
     "output_type": "stream",
     "text": [
      "NOUN | 96\n",
      "VERB | 29\n",
      "ADV | 15\n",
      "ADP | 39\n",
      "PROPN | 17\n",
      "PUNCT | 33\n",
      "DET | 34\n",
      "PRON | 4\n",
      "AUX | 13\n",
      "CCONJ | 10\n",
      "ADJ | 23\n",
      "SPACE | 7\n",
      "NUM | 19\n",
      "PART | 4\n",
      "SCONJ | 8\n",
      "X | 1\n"
     ]
    }
   ],
   "source": [
    "for k,v in count.items():\n",
    "    print(doc.vocab[k].text, \"|\",v)"
   ]
  }
 ],
 "metadata": {
  "kernelspec": {
   "display_name": "Python 3",
   "language": "python",
   "name": "python3"
  },
  "language_info": {
   "codemirror_mode": {
    "name": "ipython",
    "version": 3
   },
   "file_extension": ".py",
   "mimetype": "text/x-python",
   "name": "python",
   "nbconvert_exporter": "python",
   "pygments_lexer": "ipython3",
   "version": "3.9.12"
  }
 },
 "nbformat": 4,
 "nbformat_minor": 4
}
